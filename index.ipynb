{
 "cells": [
  {
   "cell_type": "markdown",
   "metadata": {},
   "source": [
    "# dproc\n",
    "\n",
    "> A convenient way to preprocess data using metadata."
   ]
  },
  {
   "cell_type": "markdown",
   "metadata": {},
   "source": [
    "## Install\n",
    "\n",
    "```python \n",
    "pip install dproc\n",
    "````"
   ]
  },
  {
   "cell_type": "markdown",
   "metadata": {},
   "source": [
    "## How to use"
   ]
  },
  {
   "cell_type": "markdown",
   "metadata": {},
   "source": [
    "### Import"
   ]
  },
  {
   "cell_type": "code",
   "execution_count": 2,
   "metadata": {},
   "outputs": [],
   "source": [
    "from dproc import *"
   ]
  },
  {
   "cell_type": "markdown",
   "metadata": {},
   "source": [
    "### Load the definition file\n",
    "Load the data defintion from the location of your choice (locally, server, cloud)."
   ]
  },
  {
   "cell_type": "markdown",
   "metadata": {},
   "source": [
    "```python \n",
    "dproc.meta.definition = pd.read_excel('your-data-definition-file')\n",
    "````"
   ]
  },
  {
   "cell_type": "markdown",
   "metadata": {},
   "source": [
    "This file contains all meta information such as \n",
    "\n",
    "In order to generate a specifc entity definition ...\n"
   ]
  },
  {
   "cell_type": "markdown",
   "metadata": {},
   "source": [
    "```python\n",
    "dproc.meta.entity = 'your-entity'\n",
    "```"
   ]
  },
  {
   "cell_type": "markdown",
   "metadata": {},
   "source": [
    "and then you can apply the dataflow steps:\n",
    "\n",
    "```python \n",
    "entity_cleaned = (entity_raw\n",
    "                  .step_rename_cols()\n",
    "                  .step_replace_missing_with_nan()\n",
    "                  .step_remove_not_needed_cols()\n",
    "                  .step_remove_rows_with_missing_ids()\n",
    "                  .step_remove_duplicate_rows()\n",
    "                  .step_format_dates(cols=['created'])\n",
    "                  .step_format_dates(cols=['modified'])\n",
    "                  .step_format_round_numeric_cols(cols=['rating'], decimal_places=2)\n",
    "                  .step_change_dtypes()\n",
    "                 )\n",
    "```"
   ]
  }
 ],
 "metadata": {
  "kernelspec": {
   "display_name": "Python 3",
   "language": "python",
   "name": "python3"
  },
  "language_info": {
   "codemirror_mode": {
    "name": "ipython",
    "version": 3
   },
   "file_extension": ".py",
   "mimetype": "text/x-python",
   "name": "python",
   "nbconvert_exporter": "python",
   "pygments_lexer": "ipython3",
   "version": "3.7.6"
  }
 },
 "nbformat": 4,
 "nbformat_minor": 4
}
