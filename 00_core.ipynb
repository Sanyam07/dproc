{
 "cells": [
  {
   "cell_type": "code",
   "execution_count": 6,
   "metadata": {},
   "outputs": [],
   "source": [
    "# default_exp core"
   ]
  },
  {
   "cell_type": "markdown",
   "metadata": {},
   "source": [
    "# dproc\n",
    "\n",
    "> API details."
   ]
  },
  {
   "cell_type": "code",
   "execution_count": 7,
   "metadata": {},
   "outputs": [],
   "source": [
    "#hide\n",
    "from nbdev.showdoc import *"
   ]
  },
  {
   "cell_type": "code",
   "execution_count": 8,
   "metadata": {},
   "outputs": [],
   "source": [
    "#export\n",
    "import json\n",
    "import os\n",
    "import glob\n",
    "import io\n",
    "import re\n",
    "import zipfile\n",
    "from datetime import date\n",
    "from datetime import datetime\n",
    "from functools import wraps\n",
    "from pathlib import Path\n",
    "import logging\n",
    "import numpy as np\n",
    "import pandas as pd\n",
    "import pandas_profiling\n",
    "import pandas_flavor as pf\n",
    "from dataclasses import dataclass"
   ]
  },
  {
   "cell_type": "code",
   "execution_count": 9,
   "metadata": {},
   "outputs": [],
   "source": [
    "#export\n",
    "@dataclass\n",
    "class Meta:\n",
    "    _definition: pd.DataFrame = None\n",
    "    _entity_definition: pd.DataFrame = None\n",
    "    _entity: str = None\n",
    "\n",
    "    @property\n",
    "    def definition(self) -> pd.DataFrame:\n",
    "        return self._definition\n",
    "\n",
    "    @definition.setter\n",
    "    def definition(self, df: pd.DataFrame) -> None:\n",
    "        self._definition = df\n",
    "        \n",
    "    @property\n",
    "    def entity(self) -> str:\n",
    "        return self._entity\n",
    "\n",
    "    @entity.setter\n",
    "    def entity(self, value: str) -> None:\n",
    "        self._entity = value\n",
    "        self._entity_definition = self._definition[self._definition.entity == self._entity]\n",
    "        \n",
    "    @property\n",
    "    def entity_definition(self) -> pd.DataFrame:\n",
    "        return self._entity_definition"
   ]
  },
  {
   "cell_type": "code",
   "execution_count": 10,
   "metadata": {},
   "outputs": [],
   "source": [
    "#export\n",
    "meta = Meta()"
   ]
  },
  {
   "cell_type": "code",
   "execution_count": 11,
   "metadata": {},
   "outputs": [],
   "source": [
    "#export\n",
    "@pf.register_dataframe_method\n",
    "def step_rename_cols(df, mapping=None):\n",
    "    \"\"\"Rename columns (raw column names -> clean column names)\"\"\"\n",
    "    if not mapping:\n",
    "        mapping = dict(\n",
    "            zip(\n",
    "                meta.entity_definition[\"name_raw\"].values,\n",
    "                meta.entity_definition[\"name_clean\"].values,\n",
    "            )\n",
    "        )\n",
    "    df = df.rename(columns=mapping)\n",
    "    return df"
   ]
  },
  {
   "cell_type": "code",
   "execution_count": 12,
   "metadata": {},
   "outputs": [],
   "source": [
    "#export\n",
    "@pf.register_dataframe_method\n",
    "def step_replace_missing_with_nan(df, missing_values=None):\n",
    "    \"\"\"Replace all missing values with nan\"\"\"\n",
    "    if missing_values is None:\n",
    "        missing_values = [\"nan\", \"NAN\", \"NaN\", \"none\", \"None\", \"NONE\", '\"\"', \"''\", \"\"]\n",
    "    for col in df.select_dtypes(include=\"object\").columns:\n",
    "        df.loc[df[col].isin(missing_values), col] = np.nan\n",
    "    return df"
   ]
  },
  {
   "cell_type": "code",
   "execution_count": 13,
   "metadata": {},
   "outputs": [],
   "source": [
    "#export\n",
    "@pf.register_dataframe_method\n",
    "def step_remove_not_needed_cols(df, cols=None):\n",
    "    \"\"\"Remove not needed columns\"\"\"\n",
    "    if not cols:\n",
    "        cols = list(meta.entity_definition[meta.entity_definition.is_mandatory == False][\"name_clean\"].values)    \n",
    "    df = df.drop(columns=cols)\n",
    "    return df"
   ]
  },
  {
   "cell_type": "code",
   "execution_count": 14,
   "metadata": {},
   "outputs": [],
   "source": [
    "#export\n",
    "@pf.register_dataframe_method\n",
    "def step_remove_rows_with_missing_ids(df, id_cols=None):\n",
    "    \"\"\"Remove rows with invalid ids\"\"\"\n",
    "    if not id_cols:\n",
    "        id_cols = list(meta.entity_definition[meta.entity_definition.is_unique_id == True][\"name_clean\"].values)        \n",
    "    df = df.dropna(subset=id_cols)\n",
    "    return df"
   ]
  },
  {
   "cell_type": "code",
   "execution_count": 15,
   "metadata": {},
   "outputs": [],
   "source": [
    "#export\n",
    "@pf.register_dataframe_method\n",
    "def step_remove_duplicate_rows(df, id_cols=None, keep=\"last\"):\n",
    "    \"\"\"Remove duplicate rows\"\"\"\n",
    "    if not id_cols:\n",
    "        id_cols = meta.entity_definition[meta.entity_definition.is_unique_id == True][\"name_clean\"].values\n",
    "    df.drop_duplicates(subset=id_cols, keep=keep, inplace=True)\n",
    "    return df"
   ]
  },
  {
   "cell_type": "code",
   "execution_count": 16,
   "metadata": {},
   "outputs": [],
   "source": [
    "#export\n",
    "@pf.register_dataframe_method\n",
    "def step_format_dates(df, cols=None, date_format=None):\n",
    "    \"\"\"Format date columns\"\"\"\n",
    "    if not cols:\n",
    "        cols = meta.entity_definition[meta.entity_definition.datatype.isin([\"date\", \"datetime\"])][\"name_clean\"].values\n",
    "    for col in cols:\n",
    "        if date_format:\n",
    "            df[col] = pd.to_datetime(df[col], format=date_format)\n",
    "        else:\n",
    "            df[col] = pd.to_datetime(df[col], infer_datetime_format=True)\n",
    "    return df"
   ]
  },
  {
   "cell_type": "code",
   "execution_count": 17,
   "metadata": {},
   "outputs": [],
   "source": [
    "#export\n",
    "def _round_float(value, decimal_places=2):\n",
    "    '''Helper function to round s if s is float'''\n",
    "    m = re.match(\"(\\d+\\.\\d+)\",value.__str__())\n",
    "    try:\n",
    "        r = round(float(m.groups(0)[0]),decimal_places)\n",
    "    except:\n",
    "        r = value\n",
    "    return r"
   ]
  },
  {
   "cell_type": "code",
   "execution_count": 18,
   "metadata": {},
   "outputs": [],
   "source": [
    "#export\n",
    "@pf.register_dataframe_method\n",
    "def step_format_round_numeric_cols(df, cols=None, decimal_places=2):\n",
    "    \"\"\"Round columns to defined number of decimal places\"\"\"\n",
    "    if not cols:\n",
    "        cols = meta.entity_definition[meta.entity_definition[\"dtype\"].isin([\"float\"])][\"name_clean\"].values\n",
    "    for col in cols:    \n",
    "        df[col] = df[col].apply(_round_float, args=(decimal_places,))\n",
    "    return df"
   ]
  },
  {
   "cell_type": "code",
   "execution_count": 19,
   "metadata": {},
   "outputs": [],
   "source": [
    "#export\n",
    "@pf.register_dataframe_method\n",
    "def step_change_dtypes(df, date_format=\"%Y-%m-%d %H:%M:%S\"):\n",
    "    \"\"\"Change datatypes\"\"\"\n",
    "    _entity_definition = meta.entity_definition[meta.entity_definition.is_mandatory == True]\n",
    "    cols = list(\n",
    "        zip(\n",
    "            _entity_definition[\"name_clean\"].values,\n",
    "            _entity_definition[\"dtype\"].values,\n",
    "        )\n",
    "    )\n",
    "    for col in cols:\n",
    "        if col[1] == \"int\":\n",
    "            df[col[0]] = df[col[0]].astype('Int64')\n",
    "        elif col[1] == \"float\":\n",
    "            df[col[0]] = df[col[0]].astype(float)\n",
    "        elif col[1] == \"str\":\n",
    "            df[col[0]] = df[col[0]].astype(str)\n",
    "        elif col[1] == \"category\":\n",
    "            df[col[0]] = df[col[0]].astype(\"category\")\n",
    "        elif col[1] == \"bool\":\n",
    "            df[col[0]] = df[col[0]].astype(bool)\n",
    "    return df"
   ]
  },
  {
   "cell_type": "code",
   "execution_count": 20,
   "metadata": {},
   "outputs": [
    {
     "name": "stdout",
     "output_type": "stream",
     "text": [
      "Converted 00_core.ipynb.\n",
      "Converted index.ipynb.\n"
     ]
    }
   ],
   "source": [
    "#hide\n",
    "from nbdev.export import *\n",
    "notebook2script()"
   ]
  }
 ],
 "metadata": {
  "kernelspec": {
   "display_name": "Python 3",
   "language": "python",
   "name": "python3"
  },
  "language_info": {
   "codemirror_mode": {
    "name": "ipython",
    "version": 3
   },
   "file_extension": ".py",
   "mimetype": "text/x-python",
   "name": "python",
   "nbconvert_exporter": "python",
   "pygments_lexer": "ipython3",
   "version": "3.7.6"
  }
 },
 "nbformat": 4,
 "nbformat_minor": 4
}
